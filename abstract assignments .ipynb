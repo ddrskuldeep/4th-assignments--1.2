{
 "cells": [
  {
   "cell_type": "markdown",
   "id": "3087a38d-f398-448e-89ad-81a66fd09b97",
   "metadata": {},
   "source": [
    "Q1. What is Abstraction in OOps? Explain with an example."
   ]
  },
  {
   "cell_type": "markdown",
   "id": "36233747-b909-4572-9e36-5c22da2e3dd1",
   "metadata": {},
   "source": [
    "Objects are the building blocks of Object-Oriented Programming. An object contains some properties and methods. We can hide them from the outer world through access modifiers. We can provide access only for required functions and properties to the other programs. This is the general procedure to implement abstraction in OOPS.\n",
    "For example, a car is an abstraction of its engine, wheels, brakes, etc."
   ]
  },
  {
   "cell_type": "markdown",
   "id": "add03331-8141-4459-8d0c-89c15e0381fc",
   "metadata": {},
   "source": [
    "Q2. Differentiate between Abstraction and Encapsulation. Explain with an example."
   ]
  },
  {
   "cell_type": "markdown",
   "id": "4ec79015-219b-4702-acf1-a39c15a52fc4",
   "metadata": {},
   "source": [
    "Abstraction and encapsulation are two important concepts of object-oriented programming (OOP).Abstraction is hiding the details and implementation of the code, while encapsulation is hiding the data and controlling the visibility of the code. Abstraction is a design level process that shows only useful data by providing the most necessary details, whereas encapsulation is an implementation level process that wraps code and data for necessary information. Abstraction is focused mainly on what should be done, while encapsulation is focused on how it should be done.\n",
    "\n",
    "For example, suppose we are building a program to manage a small library. We could create a class called Book that has attributes like title, author, genre, etc. and methods like borrow, return, etc. The Book class is an abstraction that hides the details of how the book is stored, retrieved, or manipulated. The user of the Book class only needs to know what the class can do, not how it does it. The Book class also encapsulates its data by making its attributes private and providing public methods to access or modify them. This way, the user of the Book class cannot directly change the data of the book, but only through the methods that enforce some rules or validations. The Book class is an encapsulation that hides the data and provides a controlled interface to the user.\n"
   ]
  },
  {
   "cell_type": "markdown",
   "id": "accff7fd-8679-4d08-a99f-8e5025cf3c20",
   "metadata": {},
   "source": [
    "Q3. What is abc module in python? Why is it used?"
   ]
  },
  {
   "cell_type": "markdown",
   "id": "0ff9e71c-8abf-4a54-a804-f0dc83b486f2",
   "metadata": {},
   "source": [
    "The 'abc' module in Python library provides the infrastructure for defining custom abstract base classes. It works by marking methods of the base class as abstract using the @absttractmethod decorator. A concrete class which is a sub class of such abstract base class then implements the abstract base by overriding its abstract methods. Python does not support abstract classes directly, so the 'abc' module provides the necessary tools for crafting an abstract base class. The module provides abstract base classes that can be used to test whether a class provides a particular interface."
   ]
  },
  {
   "cell_type": "markdown",
   "id": "e7268dad-a794-4977-aa1d-1c4fff90b9d0",
   "metadata": {},
   "source": [
    "Q4. How can we achieve data abstraction?"
   ]
  },
  {
   "cell_type": "markdown",
   "id": "857ebc6e-f2f0-4958-993f-642635e75d63",
   "metadata": {},
   "source": [
    "Data abstraction is the process of hiding the implementation details and showing only the essential features of a data type or a system.We can achieve data abstraction in different ways depending on the programming language.\n",
    "\n",
    "Using classes and access specifiers\n",
    "Using abstract methods and abstract classes\n",
    "Using interfaces"
   ]
  },
  {
   "cell_type": "markdown",
   "id": "c730c5a5-6635-426d-858c-16434502ae73",
   "metadata": {},
   "source": [
    "Q5. Can we create an instance of an abstract class? Explain your answer."
   ]
  },
  {
   "cell_type": "markdown",
   "id": "b5277cab-b37a-4932-a67e-bb45f21d8504",
   "metadata": {},
   "source": [
    "An abstract class can be considered as a blueprint for other classes. It allows you to create a set of methods that must be created within any child classes built from the abstract class. A class which contains one or more abstract methods is called ."
   ]
  },
  {
   "cell_type": "code",
   "execution_count": 9,
   "id": "1a85edd6-dd2c-4427-910a-bc5437710d34",
   "metadata": {},
   "outputs": [
    {
     "ename": "SyntaxError",
     "evalue": "expected ':' (2962464301.py, line 1)",
     "output_type": "error",
     "traceback": [
      "\u001b[0;36m  Cell \u001b[0;32mIn[9], line 1\u001b[0;36m\u001b[0m\n\u001b[0;31m    class Human\u001b[0m\n\u001b[0m               ^\u001b[0m\n\u001b[0;31mSyntaxError\u001b[0m\u001b[0;31m:\u001b[0m expected ':'\n"
     ]
    }
   ],
   "source": [
    "class Human\n",
    " \n",
    "    def move(self):\n",
    "        print(\"I can walk and run\")\n",
    " \n",
    "class Snake(Animal):\n",
    " \n",
    "    def move(self):\n",
    "        print(\"I can crawl\")\n",
    " \n",
    "class Dog(Animal):\n",
    " \n",
    "    def move(self):\n",
    "        print(\"I can bark\")\n",
    " \n",
    "class Lion(Animal):\n",
    " \n",
    "    def move(self):\n",
    "        print(\"I can roar\")"
   ]
  },
  {
   "cell_type": "code",
   "execution_count": null,
   "id": "4d995f7f-4697-4c24-8500-087d4510525d",
   "metadata": {},
   "outputs": [],
   "source": []
  },
  {
   "cell_type": "code",
   "execution_count": null,
   "id": "59a88db3-f388-4936-941c-49ad6af57a86",
   "metadata": {},
   "outputs": [],
   "source": []
  }
 ],
 "metadata": {
  "kernelspec": {
   "display_name": "Python 3 (ipykernel)",
   "language": "python",
   "name": "python3"
  },
  "language_info": {
   "codemirror_mode": {
    "name": "ipython",
    "version": 3
   },
   "file_extension": ".py",
   "mimetype": "text/x-python",
   "name": "python",
   "nbconvert_exporter": "python",
   "pygments_lexer": "ipython3",
   "version": "3.10.8"
  }
 },
 "nbformat": 4,
 "nbformat_minor": 5
}
